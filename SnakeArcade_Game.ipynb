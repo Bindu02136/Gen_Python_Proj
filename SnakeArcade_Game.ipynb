{
 "cells": [
  {
   "cell_type": "markdown",
   "id": "51b7597e",
   "metadata": {},
   "source": [
    "### SnakeArcade_Game"
   ]
  },
  {
   "cell_type": "code",
   "execution_count": 21,
   "id": "cdbf29d6",
   "metadata": {},
   "outputs": [],
   "source": [
    "from random import randint\n",
    "from PIL import ImageTk, Image\n",
    "import PIL.Image\n",
    "import tkinter as tk\n",
    "from IPython.display import Image\n",
    "import warnings \n",
    "warnings.filterwarnings('ignore')"
   ]
  },
  {
   "cell_type": "code",
   "execution_count": 22,
   "id": "1e1a455a",
   "metadata": {},
   "outputs": [],
   "source": [
    "MOVE_INCREMENT = 21\n",
    "MOVES_PER_SECOND = 18\n",
    "GAME_SPEED = 270"
   ]
  },
  {
   "cell_type": "code",
   "execution_count": 23,
   "id": "00f38545",
   "metadata": {},
   "outputs": [],
   "source": [
    "class Snake(tk.Canvas):\n",
    "\n",
    "    #init function to load the starting state of the game\n",
    "    def __init__(self):\n",
    "        super().__init__(\n",
    "        width=600, height=620, background=\"black\", highlightthickness=0\n",
    "        )\n",
    "\n",
    "        self.score=0\n",
    "        self.snake_positions = [(100,100),(80,100),(60,100)]\n",
    "        self.food_position = self.set_new_food_position()\n",
    "        self.direction = \"Right\"\n",
    "        self.bind_all(\"<Key>\",self.on_key_press)\n",
    "\n",
    "        self.load_assets()\n",
    "        self.create_objects()\n",
    "\n",
    "        self.pack()\n",
    "        self.after(GAME_SPEED, self.perform_actions)\n",
    "\n",
    "    #loading our assets - snake and food on the Canvas\n",
    "    def load_assets(self):\n",
    "        try:\n",
    "            self.snake_body_image = PIL.Image.open(\"./assets/snake.png\")\n",
    "            self.snake_body = ImageTk.PhotoImage(self.snake_body_image)\n",
    "\n",
    "            self.food_image = PIL.Image.open(\"./assets/food.png\")\n",
    "            self.food = ImageTk.PhotoImage(self.food_image)\n",
    "        except IOError as error:\n",
    "            print(error)\n",
    "            root.destroy()\n",
    "\n",
    "    #rendering the objects, score box and play area on the Canvas\n",
    "    def create_objects(self):\n",
    "        self.create_text(\n",
    "            40,12,text=f\"Score: {self.score}\",tag=\"score\",fill=\"#fff\",font=10\n",
    "        )\n",
    "\n",
    "        for x_pos, y_pos in self.snake_positions:\n",
    "            self.create_image(\n",
    "                x_pos, y_pos, image=self.snake_body, tag=\"snake\"\n",
    "            )\n",
    "\n",
    "        self.create_image(*self.food_position, image=self.food, tag=\"food\")\n",
    "        self.create_rectangle(7,27,593,613,outline=\"#525d69\")\n",
    "\n",
    "    #make our snake work for his food\n",
    "    def set_new_food_position(self):\n",
    "        while True:\n",
    "            x_position = randint(1,29)*MOVE_INCREMENT\n",
    "            y_position = randint(3,30)*MOVE_INCREMENT\n",
    "            food_position = (x_position,y_position)\n",
    "\n",
    "            if food_position not in self.snake_positions:\n",
    "                return food_position\n",
    "\n",
    "    # feeding our snake some snacks\n",
    "    def check_food_collision(self):\n",
    "        if self.snake_positions[0] == self.food_position:\n",
    "            self.score +=1\n",
    "            self.snake_positions.append(self.snake_positions[-1])\n",
    "\n",
    "            self.create_image(\n",
    "                *self.snake_positions[-1], image=self.snake_body, tag=\"snake\"\n",
    "            )\n",
    "\n",
    "            self.food_position = self.set_new_food_position()\n",
    "            self.coords(self.find_withtag(\"food\"), *self.food_position)\n",
    "\n",
    "            score = self.find_withtag(\"score\")\n",
    "            self.itemconfigure(score, text=f\"Score: {self.score}\",tag=\"score\")\n",
    "\n",
    "    #checking the conditions for game to end\n",
    "    def check_collisions(self):\n",
    "        head_x_pos, head_y_pos = self.snake_positions[0]\n",
    "\n",
    "        return(\n",
    "            head_x_pos in(0,600)\n",
    "            or head_y_pos in (20,620)\n",
    "            or (head_x_pos,head_y_pos) in self.snake_positions[1:]\n",
    "        )\n",
    "\n",
    "     #checking the users input\n",
    "    def on_key_press(self,e):\n",
    "        new_direction = e.keysym\n",
    "\n",
    "        all_directions = (\"Up\", \"Down\", \"Left\", \"Right\")\n",
    "        opposites = ({\"Up\",\"Down\"}, {\"Left\", \"Right\"})\n",
    "\n",
    "        if(new_direction in all_directions and {new_direction,self.direction} not in opposites):\n",
    "            self.direction = new_direction\n",
    "\n",
    "    #animating our snake :3\n",
    "    def move_snake(self):\n",
    "        head_x_pos, head_y_pos = self.snake_positions[0]\n",
    "\n",
    "        if self.direction == \"Left\":\n",
    "            new_head_positon = (head_x_pos-MOVE_INCREMENT, head_y_pos)\n",
    "        elif self.direction == \"Right\":\n",
    "            new_head_positon = (head_x_pos+MOVE_INCREMENT, head_y_pos)\n",
    "        elif self.direction == \"Down\":\n",
    "            new_head_positon = (head_x_pos, head_y_pos+MOVE_INCREMENT)\n",
    "        elif self.direction == \"Up\":\n",
    "            new_head_positon = (head_x_pos, head_y_pos-MOVE_INCREMENT)\n",
    "\n",
    "\n",
    "        self.snake_positions = [new_head_positon] + self.snake_positions[:-1]\n",
    "\n",
    "        for segment, position in zip(self.find_withtag(\"snake\"), self.snake_positions):\n",
    "            self.coords(segment,position)\n",
    "\n",
    "    #performing actions based on user input\n",
    "    def perform_actions(self):\n",
    "        if self.check_collisions():\n",
    "            self.end_game()\n",
    "\n",
    "        self.check_food_collision()\n",
    "        self.move_snake()\n",
    "        self.after(GAME_SPEED, self.perform_actions)\n",
    "\n",
    "    #end game\n",
    "    def end_game(self):\n",
    "        self.delete(tk.ALL)\n",
    "        self.create_text(\n",
    "            self.winfo_width() / 2,\n",
    "            self.winfo_height() / 2,\n",
    "            text=f\"Game Over! You Scored {self.score}!\",\n",
    "            fill=\"#fff\",\n",
    "            font=(\"\",10)\n",
    "        )\n"
   ]
  },
  {
   "cell_type": "code",
   "execution_count": 25,
   "id": "bd9633a7",
   "metadata": {},
   "outputs": [],
   "source": [
    "if __name__ == '__main__':\n",
    "\n",
    "    root = tk.Tk()\n",
    "    root.title(\"Snake Arcade\")\n",
    "    root.resizable(False, False)\n",
    "    root.tk.call(\"tk\", \"scaling\", 4.0)\n",
    "\n",
    "    board = Snake()\n",
    "\n",
    "    root.mainloop()"
   ]
  },
  {
   "cell_type": "code",
   "execution_count": 13,
   "id": "e0a38ff6",
   "metadata": {},
   "outputs": [
    {
     "data": {
      "image/png": "[encoded data removed]",
      "text/plain": [
       "<IPython.core.display.Image object>"
      ]
     },
     "execution_count": 13,
     "metadata": {
      "image/png": {
       "height": 400,
       "width": 400
      }
     },
     "output_type": "execute_result"
    }
   ],
   "source": [
    "#Display the output Window\n",
    "Image(filename='SnakeArcade_Game_img.png',width=400, height=400)"
   ]
  },
  {
   "cell_type": "code",
   "execution_count": null,
   "id": "a223c3cd",
   "metadata": {},
   "outputs": [],
   "source": []
  }
 ],
 "metadata": {
  "kernelspec": {
   "display_name": "Python 3",
   "language": "python",
   "name": "python3"
  },
  "language_info": {
   "codemirror_mode": {
    "name": "ipython",
    "version": 3
   },
   "file_extension": ".py",
   "mimetype": "text/x-python",
   "name": "python",
   "nbconvert_exporter": "python",
   "pygments_lexer": "ipython3",
   "version": "3.7.10"
  }
 },
 "nbformat": 4,
 "nbformat_minor": 5
}
