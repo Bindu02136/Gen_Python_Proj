{
 "cells": [
  {
   "cell_type": "markdown",
   "id": "bb2096f6",
   "metadata": {},
   "source": [
    "### Text-to-speech-converter"
   ]
  },
  {
   "cell_type": "code",
   "execution_count": 7,
   "id": "858e0457",
   "metadata": {},
   "outputs": [],
   "source": [
    "#imporing the required modules\n",
    "from tkinter import *\n",
    "from gtts import gTTS\n",
    "from playsound import playsound\n",
    "import os\n",
    "from IPython.display import Image\n",
    "import warnings \n",
    "warnings.filterwarnings('ignore')"
   ]
  },
  {
   "cell_type": "code",
   "execution_count": 2,
   "id": "f85edae4",
   "metadata": {},
   "outputs": [],
   "source": [
    "#setting up the window\n",
    "window=Tk()\n",
    "window.title(\"Text to speech converter\")\n",
    "window.geometry(\"600x400\")\n",
    "window.config(bg=\"black\")"
   ]
  },
  {
   "cell_type": "code",
   "execution_count": 3,
   "id": "cbaa5baa",
   "metadata": {},
   "outputs": [],
   "source": [
    "#Adding a caption to the window\n",
    "lbl=Label(window,text=\"TEXT TO SPEECH CONVERTER\",font=\"Impact 21 bold\",bg=\"black\",fg=\"yellow\").place(x=150,y=20)\n",
    "\n",
    "#Declaring the variable\n",
    "var=StringVar()\n",
    "lbl1=Label(window,text=\"Enter the message:\",font=\"Helvetica 18 bold\",bg=\"black\",fg=\"white\").place(x=20,y=70)\n",
    "\n",
    "#Taking input from the user\n",
    "msg_entry=Entry(window,textvariable=var,width=60,font=\"bold\")\n",
    "msg_entry.grid(padx=20,pady=130,ipady=6)"
   ]
  },
  {
   "cell_type": "code",
   "execution_count": 4,
   "id": "8fb5cab3",
   "metadata": {},
   "outputs": [],
   "source": [
    "#setting up the function\n",
    "def play():\n",
    "    Text=msg_entry.get()\n",
    "    speech=gTTS(text=Text)\n",
    "    speech.save('voice.mp3')\n",
    "    playsound('voice.mp3')\n",
    "    os.remove('voice.mp3')\n",
    "def reset():\n",
    "    var.set(\"\")\n",
    "def close():\n",
    "    window.destroy()\n",
    "\n",
    "#setting up the buttons\n",
    "btn1=Button(window,text=\"PLAY\",font=\"Helvetica 18 bold\",bg=\"#52D017\",fg=\"black\",command=play).place(x=50,y=250)\n",
    "btn2=Button(window,text=\"RESET\",font=\"Helvetica 18 bold\",bg=\"#0000A0\",fg=\"black\",command=reset).place(x=250,y=250)\n",
    "btn3=Button(window,text=\"CLOSE\",font=\"Helvetica 18 bold\",bg=\"#F62217\",fg=\"black\",command=close).place(x=450,y=250)\n",
    "\n",
    "window.mainloop()"
   ]
  },
  {
   "cell_type": "code",
   "execution_count": 8,
   "id": "25077159",
   "metadata": {},
   "outputs": [
    {
     "data": {
      "image/png": "[encoded data removed]",
      "text/plain": [
       "<IPython.core.display.Image object>"
      ]
     },
     "execution_count": 8,
     "metadata": {
      "image/png": {
       "height": 400,
       "width": 600
      }
     },
     "output_type": "execute_result"
    }
   ],
   "source": [
    "#Display the output Window\n",
    "Image(filename='text2speech_img1.png',width=600, height=400)"
   ]
  },
  {
   "cell_type": "code",
   "execution_count": null,
   "id": "61bce5bc",
   "metadata": {},
   "outputs": [],
   "source": []
  },
  {
   "cell_type": "code",
   "execution_count": null,
   "id": "5381926d",
   "metadata": {},
   "outputs": [],
   "source": []
  },
  {
   "cell_type": "code",
   "execution_count": null,
   "id": "94220f77",
   "metadata": {},
   "outputs": [],
   "source": []
  },
  {
   "cell_type": "code",
   "execution_count": null,
   "id": "4551d0c9",
   "metadata": {},
   "outputs": [],
   "source": []
  },
  {
   "cell_type": "code",
   "execution_count": null,
   "id": "6e9151e5",
   "metadata": {},
   "outputs": [],
   "source": []
  },
  {
   "cell_type": "code",
   "execution_count": null,
   "id": "10549ee1",
   "metadata": {},
   "outputs": [],
   "source": []
  },
  {
   "cell_type": "code",
   "execution_count": null,
   "id": "3696ae89",
   "metadata": {},
   "outputs": [],
   "source": []
  },
  {
   "cell_type": "code",
   "execution_count": null,
   "id": "7ef2245e",
   "metadata": {},
   "outputs": [],
   "source": []
  },
  {
   "cell_type": "code",
   "execution_count": null,
   "id": "d2e660e1",
   "metadata": {},
   "outputs": [],
   "source": []
  }
 ],
 "metadata": {
  "kernelspec": {
   "display_name": "Python 3",
   "language": "python",
   "name": "python3"
  },
  "language_info": {
   "codemirror_mode": {
    "name": "ipython",
    "version": 3
   },
   "file_extension": ".py",
   "mimetype": "text/x-python",
   "name": "python",
   "nbconvert_exporter": "python",
   "pygments_lexer": "ipython3",
   "version": "3.7.10"
  }
 },
 "nbformat": 4,
 "nbformat_minor": 5
}
